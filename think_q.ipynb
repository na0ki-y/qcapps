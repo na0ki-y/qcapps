{
 "cells": [
  {
   "cell_type": "markdown",
   "metadata": {},
   "source": [
    "# 勝敗の考案\n",
    "20221128 なおき"
   ]
  },
  {
   "cell_type": "code",
   "execution_count": 60,
   "metadata": {},
   "outputs": [],
   "source": [
    "import numpy as np\n",
    "from matplotlib import pyplot as plt\n",
    "import seaborn as sns\n",
    "from qiskit import QuantumCircuit, QuantumRegister, ClassicalRegister\n",
    "from qiskit import Aer\n",
    "from qiskit.visualization import array_to_latex"
   ]
  },
  {
   "cell_type": "markdown",
   "metadata": {},
   "source": [
    "#　リバーシの結果の定義"
   ]
  },
  {
   "cell_type": "code",
   "execution_count": 61,
   "metadata": {},
   "outputs": [
    {
     "data": {
      "text/plain": [
       "<AxesSubplot: >"
      ]
     },
     "execution_count": 61,
     "metadata": {},
     "output_type": "execute_result"
    },
    {
     "data": {
      "image/png": "[encoded data removed]",
      "text/plain": [
       "<Figure size 640x480 with 2 Axes>"
      ]
     },
     "metadata": {},
     "output_type": "display_data"
    }
   ],
   "source": [
    "NUM_SQUARE=4\n",
    "YOUR_COLOR=\"●\"#1\n",
    "COM_COLOR=\"◯\"#0\n",
    "board=np.random.randint(0,2,(NUM_SQUARE,NUM_SQUARE))\n",
    "sns.heatmap(board)"
   ]
  },
  {
   "cell_type": "markdown",
   "metadata": {},
   "source": [
    "##　angle:角度"
   ]
  },
  {
   "cell_type": "code",
   "execution_count": 62,
   "metadata": {},
   "outputs": [
    {
     "data": {
      "text/plain": [
       "<AxesSubplot: >"
      ]
     },
     "execution_count": 62,
     "metadata": {},
     "output_type": "execute_result"
    },
    {
     "data": {
      "image/png": "[encoded data removed]",
      "text/plain": [
       "<Figure size 640x480 with 2 Axes>"
      ]
     },
     "metadata": {},
     "output_type": "display_data"
    }
   ],
   "source": [
    "angle=np.random.random((NUM_SQUARE,NUM_SQUARE))*360\n",
    "sns.heatmap(angle)"
   ]
  },
  {
   "cell_type": "markdown",
   "metadata": {},
   "source": [
    "# シンプルリバーシ\n",
    "boardを受け取って0/1の個数を数える\n"
   ]
  },
  {
   "cell_type": "code",
   "execution_count": 63,
   "metadata": {},
   "outputs": [
    {
     "name": "stdout",
     "output_type": "stream",
     "text": [
      "Player1● 9 7\n"
     ]
    }
   ],
   "source": [
    "def normal_reversi(board):\n",
    "    num_your=0\n",
    "    num_com=0\n",
    "    for y in range(NUM_SQUARE):\n",
    "            for x in range(NUM_SQUARE):\n",
    "                if board[y][x] == 1:\n",
    "                    num_your += 1\n",
    "                elif board[y][x] == 0:\n",
    "                    num_com += 1\n",
    "    simple_winner=\"Player2○\"\n",
    "    if num_your>num_com:\n",
    "        simple_winner=\"Player1●\"\n",
    "    print(simple_winner,num_your,num_com)\n",
    "normal_reversi(board)"
   ]
  },
  {
   "cell_type": "markdown",
   "metadata": {},
   "source": [
    "# Q-reversi(卒業式時点)\n",
    "angleを受け取って各振幅計算し総和"
   ]
  },
  {
   "cell_type": "code",
   "execution_count": 64,
   "metadata": {},
   "outputs": [
    {
     "name": "stdout",
     "output_type": "stream",
     "text": [
      "Player2○ 7.19 8.81\n"
     ]
    }
   ],
   "source": [
    "def sum_sin_con(angle):\n",
    "    # 確率振幅を合計する\n",
    "    prop_your = 0\n",
    "    prop_com = 0\n",
    "\n",
    "    for y in range(NUM_SQUARE):\n",
    "        for x in range(NUM_SQUARE):\n",
    "            prop_your += (np.cos((angle[y][x])/2))**2\n",
    "            prop_com += (np.sin((angle[y][x])/2))**2\n",
    "\n",
    "    prop_your = round(prop_your, 2)\n",
    "    prop_com = round(prop_com, 2)\n",
    "    q_winner=\"Player2○\"\n",
    "    if prop_your>prop_com:\n",
    "        q_winner=\"Player1●\"\n",
    "    print(q_winner,prop_your,prop_com)\n",
    "sum_sin_con(angle)"
   ]
  },
  {
   "cell_type": "markdown",
   "metadata": {},
   "source": [
    "# Q-reversi(なおき考案)\n",
    "angleを受け取って各bitに対応させ1回測定"
   ]
  },
  {
   "cell_type": "code",
   "execution_count": 65,
   "metadata": {},
   "outputs": [
    {
     "name": "stdout",
     "output_type": "stream",
     "text": [
      "Player2○ 7 9\n"
     ]
    }
   ],
   "source": [
    "def each_qbit(angle):\n",
    "    qc = QuantumCircuit(0)\n",
    "    qr = QuantumRegister(NUM_SQUARE*NUM_SQUARE)\n",
    "    qc.add_register(qr)\n",
    "    qc.h(qr)\n",
    "    for y in range(NUM_SQUARE):\n",
    "        for x in range(NUM_SQUARE):\n",
    "            qc.ry(angle[y][x], qr[y*NUM_SQUARE+x])\n",
    "    cr = ClassicalRegister(NUM_SQUARE*NUM_SQUARE,'creg')\n",
    "    qc.add_register(cr)                             #測定後の0or1を保存する従来のレジスタ   確率ではない\n",
    "    qc.measure(qr,cr)                         #観測する\n",
    "    sim = Aer.get_backend('qasm_simulator')        #実際に動かした時のシミュレータ\n",
    "    res = sim.run(qc, shots = 1).result()    \n",
    "    ans=list(res.get_counts().keys())[0]\n",
    "    num_your=ans.count(\"1\")\n",
    "    num_com=ans.count(\"0\")\n",
    "    simple_winner=\"Player2○\"\n",
    "    if num_your>num_com:\n",
    "        simple_winner=\"Player1●\"\n",
    "    print(simple_winner,num_your,num_com)\n",
    "    return qc,ans\n",
    "qc,ans=each_qbit(angle)"
   ]
  },
  {
   "cell_type": "code",
   "execution_count": 66,
   "metadata": {},
   "outputs": [
    {
     "data": {
      "text/html": [
       "<pre style=\"word-wrap: normal;white-space: pre;background: #fff0;line-height: 1.1;font-family: &quot;Courier New&quot;,Courier,monospace\">         ┌───┐┌────────────┐┌─┐                                             \n",
       "  q30_0: ┤ H ├┤ Ry(133.93) ├┤M├─────────────────────────────────────────────\n",
       "         ├───┤├────────────┤└╥┘┌─┐                                          \n",
       "  q30_1: ┤ H ├┤ Ry(241.58) ├─╫─┤M├──────────────────────────────────────────\n",
       "         ├───┤├────────────┤ ║ └╥┘┌─┐                                       \n",
       "  q30_2: ┤ H ├┤ Ry(63.371) ├─╫──╫─┤M├───────────────────────────────────────\n",
       "         ├───┤├────────────┤ ║  ║ └╥┘┌─┐                                    \n",
       "  q30_3: ┤ H ├┤ Ry(232.75) ├─╫──╫──╫─┤M├────────────────────────────────────\n",
       "         ├───┤├────────────┤ ║  ║  ║ └╥┘┌─┐                                 \n",
       "  q30_4: ┤ H ├┤ Ry(115.23) ├─╫──╫──╫──╫─┤M├─────────────────────────────────\n",
       "         ├───┤├────────────┤ ║  ║  ║  ║ └╥┘┌─┐                              \n",
       "  q30_5: ┤ H ├┤ Ry(209.96) ├─╫──╫──╫──╫──╫─┤M├──────────────────────────────\n",
       "         ├───┤├───────────┬┘ ║  ║  ║  ║  ║ └╥┘┌─┐                           \n",
       "  q30_6: ┤ H ├┤ Ry(163.2) ├──╫──╫──╫──╫──╫──╫─┤M├───────────────────────────\n",
       "         ├───┤├───────────┴┐ ║  ║  ║  ║  ║  ║ └╥┘┌─┐                        \n",
       "  q30_7: ┤ H ├┤ Ry(358.21) ├─╫──╫──╫──╫──╫──╫──╫─┤M├────────────────────────\n",
       "         ├───┤├────────────┤ ║  ║  ║  ║  ║  ║  ║ └╥┘┌─┐                     \n",
       "  q30_8: ┤ H ├┤ Ry(109.35) ├─╫──╫──╫──╫──╫──╫──╫──╫─┤M├─────────────────────\n",
       "         ├───┤├───────────┬┘ ║  ║  ║  ║  ║  ║  ║  ║ └╥┘┌─┐                  \n",
       "  q30_9: ┤ H ├┤ Ry(245.5) ├──╫──╫──╫──╫──╫──╫──╫──╫──╫─┤M├──────────────────\n",
       "         ├───┤├───────────┴┐ ║  ║  ║  ║  ║  ║  ║  ║  ║ └╥┘┌─┐               \n",
       " q30_10: ┤ H ├┤ Ry(123.23) ├─╫──╫──╫──╫──╫──╫──╫──╫──╫──╫─┤M├───────────────\n",
       "         ├───┤├────────────┤ ║  ║  ║  ║  ║  ║  ║  ║  ║  ║ └╥┘┌─┐            \n",
       " q30_11: ┤ H ├┤ Ry(141.09) ├─╫──╫──╫──╫──╫──╫──╫──╫──╫──╫──╫─┤M├────────────\n",
       "         ├───┤├────────────┤ ║  ║  ║  ║  ║  ║  ║  ║  ║  ║  ║ └╥┘┌─┐         \n",
       " q30_12: ┤ H ├┤ Ry(358.16) ├─╫──╫──╫──╫──╫──╫──╫──╫──╫──╫──╫──╫─┤M├─────────\n",
       "         ├───┤├────────────┤ ║  ║  ║  ║  ║  ║  ║  ║  ║  ║  ║  ║ └╥┘┌─┐      \n",
       " q30_13: ┤ H ├┤ Ry(27.236) ├─╫──╫──╫──╫──╫──╫──╫──╫──╫──╫──╫──╫──╫─┤M├──────\n",
       "         ├───┤├────────────┤ ║  ║  ║  ║  ║  ║  ║  ║  ║  ║  ║  ║  ║ └╥┘┌─┐   \n",
       " q30_14: ┤ H ├┤ Ry(272.45) ├─╫──╫──╫──╫──╫──╫──╫──╫──╫──╫──╫──╫──╫──╫─┤M├───\n",
       "         ├───┤├────────────┤ ║  ║  ║  ║  ║  ║  ║  ║  ║  ║  ║  ║  ║  ║ └╥┘┌─┐\n",
       " q30_15: ┤ H ├┤ Ry(217.26) ├─╫──╫──╫──╫──╫──╫──╫──╫──╫──╫──╫──╫──╫──╫──╫─┤M├\n",
       "         └───┘└────────────┘ ║  ║  ║  ║  ║  ║  ║  ║  ║  ║  ║  ║  ║  ║  ║ └╥┘\n",
       "creg: 16/════════════════════╩══╩══╩══╩══╩══╩══╩══╩══╩══╩══╩══╩══╩══╩══╩══╩═\n",
       "                             0  1  2  3  4  5  6  7  8  9  10 11 12 13 14 15</pre>"
      ],
      "text/plain": [
       "         ┌───┐┌────────────┐┌─┐                                             \n",
       "  q30_0: ┤ H ├┤ Ry(133.93) ├┤M├─────────────────────────────────────────────\n",
       "         ├───┤├────────────┤└╥┘┌─┐                                          \n",
       "  q30_1: ┤ H ├┤ Ry(241.58) ├─╫─┤M├──────────────────────────────────────────\n",
       "         ├───┤├────────────┤ ║ └╥┘┌─┐                                       \n",
       "  q30_2: ┤ H ├┤ Ry(63.371) ├─╫──╫─┤M├───────────────────────────────────────\n",
       "         ├───┤├────────────┤ ║  ║ └╥┘┌─┐                                    \n",
       "  q30_3: ┤ H ├┤ Ry(232.75) ├─╫──╫──╫─┤M├────────────────────────────────────\n",
       "         ├───┤├────────────┤ ║  ║  ║ └╥┘┌─┐                                 \n",
       "  q30_4: ┤ H ├┤ Ry(115.23) ├─╫──╫──╫──╫─┤M├─────────────────────────────────\n",
       "         ├───┤├────────────┤ ║  ║  ║  ║ └╥┘┌─┐                              \n",
       "  q30_5: ┤ H ├┤ Ry(209.96) ├─╫──╫──╫──╫──╫─┤M├──────────────────────────────\n",
       "         ├───┤├───────────┬┘ ║  ║  ║  ║  ║ └╥┘┌─┐                           \n",
       "  q30_6: ┤ H ├┤ Ry(163.2) ├──╫──╫──╫──╫──╫──╫─┤M├───────────────────────────\n",
       "         ├───┤├───────────┴┐ ║  ║  ║  ║  ║  ║ └╥┘┌─┐                        \n",
       "  q30_7: ┤ H ├┤ Ry(358.21) ├─╫──╫──╫──╫──╫──╫──╫─┤M├────────────────────────\n",
       "         ├───┤├────────────┤ ║  ║  ║  ║  ║  ║  ║ └╥┘┌─┐                     \n",
       "  q30_8: ┤ H ├┤ Ry(109.35) ├─╫──╫──╫──╫──╫──╫──╫──╫─┤M├─────────────────────\n",
       "         ├───┤├───────────┬┘ ║  ║  ║  ║  ║  ║  ║  ║ └╥┘┌─┐                  \n",
       "  q30_9: ┤ H ├┤ Ry(245.5) ├──╫──╫──╫──╫──╫──╫──╫──╫──╫─┤M├──────────────────\n",
       "         ├───┤├───────────┴┐ ║  ║  ║  ║  ║  ║  ║  ║  ║ └╥┘┌─┐               \n",
       " q30_10: ┤ H ├┤ Ry(123.23) ├─╫──╫──╫──╫──╫──╫──╫──╫──╫──╫─┤M├───────────────\n",
       "         ├───┤├────────────┤ ║  ║  ║  ║  ║  ║  ║  ║  ║  ║ └╥┘┌─┐            \n",
       " q30_11: ┤ H ├┤ Ry(141.09) ├─╫──╫──╫──╫──╫──╫──╫──╫──╫──╫──╫─┤M├────────────\n",
       "         ├───┤├────────────┤ ║  ║  ║  ║  ║  ║  ║  ║  ║  ║  ║ └╥┘┌─┐         \n",
       " q30_12: ┤ H ├┤ Ry(358.16) ├─╫──╫──╫──╫──╫──╫──╫──╫──╫──╫──╫──╫─┤M├─────────\n",
       "         ├───┤├────────────┤ ║  ║  ║  ║  ║  ║  ║  ║  ║  ║  ║  ║ └╥┘┌─┐      \n",
       " q30_13: ┤ H ├┤ Ry(27.236) ├─╫──╫──╫──╫──╫──╫──╫──╫──╫──╫──╫──╫──╫─┤M├──────\n",
       "         ├───┤├────────────┤ ║  ║  ║  ║  ║  ║  ║  ║  ║  ║  ║  ║  ║ └╥┘┌─┐   \n",
       " q30_14: ┤ H ├┤ Ry(272.45) ├─╫──╫──╫──╫──╫──╫──╫──╫──╫──╫──╫──╫──╫──╫─┤M├───\n",
       "         ├───┤├────────────┤ ║  ║  ║  ║  ║  ║  ║  ║  ║  ║  ║  ║  ║  ║ └╥┘┌─┐\n",
       " q30_15: ┤ H ├┤ Ry(217.26) ├─╫──╫──╫──╫──╫──╫──╫──╫──╫──╫──╫──╫──╫──╫──╫─┤M├\n",
       "         └───┘└────────────┘ ║  ║  ║  ║  ║  ║  ║  ║  ║  ║  ║  ║  ║  ║  ║ └╥┘\n",
       "creg: 16/════════════════════╩══╩══╩══╩══╩══╩══╩══╩══╩══╩══╩══╩══╩══╩══╩══╩═\n",
       "                             0  1  2  3  4  5  6  7  8  9  10 11 12 13 14 15"
      ]
     },
     "execution_count": 66,
     "metadata": {},
     "output_type": "execute_result"
    }
   ],
   "source": [
    "qc.draw()"
   ]
  },
  {
   "cell_type": "code",
   "execution_count": 67,
   "metadata": {},
   "outputs": [
    {
     "data": {
      "text/plain": [
       "<AxesSubplot: >"
      ]
     },
     "execution_count": 67,
     "metadata": {},
     "output_type": "execute_result"
    },
    {
     "data": {
      "image/png": "[encoded data removed]",
      "text/plain": [
       "<Figure size 640x480 with 2 Axes>"
      ]
     },
     "metadata": {},
     "output_type": "display_data"
    }
   ],
   "source": [
    "ans_np=np.zeros(((NUM_SQUARE,NUM_SQUARE)))\n",
    "for n,a in enumerate(ans):\n",
    "    i=n//NUM_SQUARE\n",
    "    j=n%NUM_SQUARE\n",
    "    ans_np[i][j]=a\n",
    "sns.heatmap(ans_np)"
   ]
  },
  {
   "cell_type": "markdown",
   "metadata": {},
   "source": [
    "# Q-reversi(Kさん考案)（たぶんこれ）\n",
    "angleを受け取って1bitにいれ振幅計算"
   ]
  },
  {
   "cell_type": "code",
   "execution_count": 68,
   "metadata": {},
   "outputs": [
    {
     "name": "stdout",
     "output_type": "stream",
     "text": [
      "Player1● 0.63 0.37\n"
     ]
    }
   ],
   "source": [
    "def one_qbit(angle):\n",
    "    qc = QuantumCircuit(0)\n",
    "    qr = QuantumRegister(1)\n",
    "    qc.add_register(qr)\n",
    "    qc.h(qr)\n",
    "    for y in range(NUM_SQUARE):\n",
    "        for x in range(NUM_SQUARE):\n",
    "            qc.ry(angle[y][x], qr[0])\n",
    "    sim = Aer.get_backend('statevector_simulator')\n",
    "    res = sim.run(qc).result()\n",
    "    state = res.data()[\"statevector\"]\n",
    "    prop_your = (state[1] * state[1].conjugate()).real\n",
    "    prop_com = (state[0] * state[0].conjugate()).real\n",
    "    prop_your = round(prop_your, 2)\n",
    "    prop_com = round(prop_com, 2)\n",
    "    q_winner=\"Player2○\"\n",
    "    if prop_your>prop_com:\n",
    "        q_winner=\"Player1●\"\n",
    "    print(q_winner,prop_your,prop_com)\n",
    "\n",
    "    return qc,ans\n",
    "qc,ans=one_qbit(angle)"
   ]
  },
  {
   "cell_type": "code",
   "execution_count": 69,
   "metadata": {},
   "outputs": [
    {
     "data": {
      "text/html": [
       "<pre style=\"word-wrap: normal;white-space: pre;background: #fff0;line-height: 1.1;font-family: &quot;Courier New&quot;,Courier,monospace\">     ┌───┐┌────────────┐┌────────────┐┌────────────┐┌────────────┐»\n",
       "q31: ┤ H ├┤ Ry(133.93) ├┤ Ry(241.58) ├┤ Ry(63.371) ├┤ Ry(232.75) ├»\n",
       "     └───┘└────────────┘└────────────┘└────────────┘└────────────┘»\n",
       "«     ┌────────────┐┌────────────┐┌───────────┐┌────────────┐┌────────────┐»\n",
       "«q31: ┤ Ry(115.23) ├┤ Ry(209.96) ├┤ Ry(163.2) ├┤ Ry(358.21) ├┤ Ry(109.35) ├»\n",
       "«     └────────────┘└────────────┘└───────────┘└────────────┘└────────────┘»\n",
       "«     ┌───────────┐┌────────────┐┌────────────┐┌────────────┐┌────────────┐»\n",
       "«q31: ┤ Ry(245.5) ├┤ Ry(123.23) ├┤ Ry(141.09) ├┤ Ry(358.16) ├┤ Ry(27.236) ├»\n",
       "«     └───────────┘└────────────┘└────────────┘└────────────┘└────────────┘»\n",
       "«     ┌────────────┐┌────────────┐\n",
       "«q31: ┤ Ry(272.45) ├┤ Ry(217.26) ├\n",
       "«     └────────────┘└────────────┘</pre>"
      ],
      "text/plain": [
       "     ┌───┐┌────────────┐┌────────────┐┌────────────┐┌────────────┐»\n",
       "q31: ┤ H ├┤ Ry(133.93) ├┤ Ry(241.58) ├┤ Ry(63.371) ├┤ Ry(232.75) ├»\n",
       "     └───┘└────────────┘└────────────┘└────────────┘└────────────┘»\n",
       "«     ┌────────────┐┌────────────┐┌───────────┐┌────────────┐┌────────────┐»\n",
       "«q31: ┤ Ry(115.23) ├┤ Ry(209.96) ├┤ Ry(163.2) ├┤ Ry(358.21) ├┤ Ry(109.35) ├»\n",
       "«     └────────────┘└────────────┘└───────────┘└────────────┘└────────────┘»\n",
       "«     ┌───────────┐┌────────────┐┌────────────┐┌────────────┐┌────────────┐»\n",
       "«q31: ┤ Ry(245.5) ├┤ Ry(123.23) ├┤ Ry(141.09) ├┤ Ry(358.16) ├┤ Ry(27.236) ├»\n",
       "«     └───────────┘└────────────┘└────────────┘└────────────┘└────────────┘»\n",
       "«     ┌────────────┐┌────────────┐\n",
       "«q31: ┤ Ry(272.45) ├┤ Ry(217.26) ├\n",
       "«     └────────────┘└────────────┘"
      ]
     },
     "execution_count": 69,
     "metadata": {},
     "output_type": "execute_result"
    }
   ],
   "source": [
    "qc.draw()"
   ]
  }
 ],
 "metadata": {
  "kernelspec": {
   "display_name": "Python 3.9.15 ('qcapps-OeqcyWO3')",
   "language": "python",
   "name": "python3"
  },
  "language_info": {
   "codemirror_mode": {
    "name": "ipython",
    "version": 3
   },
   "file_extension": ".py",
   "mimetype": "text/x-python",
   "name": "python",
   "nbconvert_exporter": "python",
   "pygments_lexer": "ipython3",
   "version": "3.9.15"
  },
  "orig_nbformat": 4,
  "vscode": {
   "interpreter": {
    "hash": "90d136ace1e15f798566cb54e92559956ff005e93a45adde2e551128d9387190"
   }
  }
 },
 "nbformat": 4,
 "nbformat_minor": 2
}
